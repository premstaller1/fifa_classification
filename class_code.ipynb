{
 "cells": [
  {
   "cell_type": "code",
   "execution_count": 3,
   "metadata": {},
   "outputs": [
    {
     "name": "stderr",
     "output_type": "stream",
     "text": [
      "C:\\Users\\h1181\\AppData\\Local\\Temp\\ipykernel_8284\\4199731666.py:10: DtypeWarning: Columns (25,108) have mixed types. Specify dtype option on import or set low_memory=False.\n",
      "  df = pd.read_csv(r'Data\\players_22.csv', index_col=0)\n"
     ]
    }
   ],
   "source": [
    "#Write down code to import libraries important for Machine Learning and Data Analysis/Science\n",
    "import pandas as pd\n",
    "import numpy as np\n",
    "import matplotlib.pyplot as plt\n",
    "import seaborn as sns\n",
    "%matplotlib inline\n",
    "\n",
    "#Write down code to import the dataset\n",
    "\n",
    "df = pd.read_csv(r'Data\\players_22.csv', index_col=0)"
   ]
  },
  {
   "cell_type": "code",
   "execution_count": 5,
   "metadata": {},
   "outputs": [],
   "source": [
    "#Solution to DtypeWarning: Columns (25,108) have mixed types. Specify dtype option on import or set low_memory=False.\n",
    "df = pd.read_csv(r'Data\\players_22.csv', index_col=0, low_memory=False)"
   ]
  },
  {
   "cell_type": "code",
   "execution_count": 8,
   "metadata": {},
   "outputs": [
    {
     "name": "stdout",
     "output_type": "stream",
     "text": [
      "<class 'pandas.core.frame.DataFrame'>\n",
      "Index: 19239 entries, 158023 to 264540\n",
      "Columns: 109 entries, player_url to nation_flag_url\n",
      "dtypes: float64(16), int64(43), object(50)\n",
      "memory usage: 16.1+ MB\n",
      "                                                  player_url   \n",
      "sofifa_id                                                      \n",
      "158023     https://sofifa.com/player/158023/lionel-messi/...  \\\n",
      "188545     https://sofifa.com/player/188545/robert-lewand...   \n",
      "20801      https://sofifa.com/player/20801/c-ronaldo-dos-...   \n",
      "190871     https://sofifa.com/player/190871/neymar-da-sil...   \n",
      "192985     https://sofifa.com/player/192985/kevin-de-bruy...   \n",
      "\n",
      "                  short_name                            long_name   \n",
      "sofifa_id                                                           \n",
      "158023              L. Messi       Lionel Andrés Messi Cuccittini  \\\n",
      "188545        R. Lewandowski                   Robert Lewandowski   \n",
      "20801      Cristiano Ronaldo  Cristiano Ronaldo dos Santos Aveiro   \n",
      "190871             Neymar Jr        Neymar da Silva Santos Júnior   \n",
      "192985          K. De Bruyne                      Kevin De Bruyne   \n",
      "\n",
      "          player_positions  overall  potential    value_eur  wage_eur  age   \n",
      "sofifa_id                                                                    \n",
      "158023          RW, ST, CF       93         93   78000000.0  320000.0   34  \\\n",
      "188545                  ST       92         92  119500000.0  270000.0   32   \n",
      "20801               ST, LW       91         91   45000000.0  270000.0   36   \n",
      "190871             LW, CAM       91         91  129000000.0  270000.0   29   \n",
      "192985             CM, CAM       91         91  125500000.0  350000.0   30   \n",
      "\n",
      "                  dob  ...   lcb    cb   rcb    rb    gk   \n",
      "sofifa_id              ...                                 \n",
      "158023     1987-06-24  ...  50+3  50+3  50+3  61+3  19+3  \\\n",
      "188545     1988-08-21  ...  60+3  60+3  60+3  61+3  19+3   \n",
      "20801      1985-02-05  ...  53+3  53+3  53+3  60+3  20+3   \n",
      "190871     1992-02-05  ...  50+3  50+3  50+3  62+3  20+3   \n",
      "192985     1991-06-28  ...  69+3  69+3  69+3  75+3  21+3   \n",
      "\n",
      "                                             player_face_url   \n",
      "sofifa_id                                                      \n",
      "158023     https://cdn.sofifa.net/players/158/023/22_120.png  \\\n",
      "188545     https://cdn.sofifa.net/players/188/545/22_120.png   \n",
      "20801      https://cdn.sofifa.net/players/020/801/22_120.png   \n",
      "190871     https://cdn.sofifa.net/players/190/871/22_120.png   \n",
      "192985     https://cdn.sofifa.net/players/192/985/22_120.png   \n",
      "\n",
      "                                    club_logo_url   \n",
      "sofifa_id                                           \n",
      "158023     https://cdn.sofifa.net/teams/73/60.png  \\\n",
      "188545     https://cdn.sofifa.net/teams/21/60.png   \n",
      "20801      https://cdn.sofifa.net/teams/11/60.png   \n",
      "190871     https://cdn.sofifa.net/teams/73/60.png   \n",
      "192985     https://cdn.sofifa.net/teams/10/60.png   \n",
      "\n",
      "                                     club_flag_url   \n",
      "sofifa_id                                            \n",
      "158023         https://cdn.sofifa.net/flags/fr.png  \\\n",
      "188545         https://cdn.sofifa.net/flags/de.png   \n",
      "20801      https://cdn.sofifa.net/flags/gb-eng.png   \n",
      "190871         https://cdn.sofifa.net/flags/fr.png   \n",
      "192985     https://cdn.sofifa.net/flags/gb-eng.png   \n",
      "\n",
      "                                    nation_logo_url   \n",
      "sofifa_id                                             \n",
      "158023     https://cdn.sofifa.net/teams/1369/60.png  \\\n",
      "188545     https://cdn.sofifa.net/teams/1353/60.png   \n",
      "20801      https://cdn.sofifa.net/teams/1354/60.png   \n",
      "190871                                          NaN   \n",
      "192985     https://cdn.sofifa.net/teams/1325/60.png   \n",
      "\n",
      "                               nation_flag_url  \n",
      "sofifa_id                                       \n",
      "158023     https://cdn.sofifa.net/flags/ar.png  \n",
      "188545     https://cdn.sofifa.net/flags/pl.png  \n",
      "20801      https://cdn.sofifa.net/flags/pt.png  \n",
      "190871     https://cdn.sofifa.net/flags/br.png  \n",
      "192985     https://cdn.sofifa.net/flags/be.png  \n",
      "\n",
      "[5 rows x 109 columns]\n"
     ]
    }
   ],
   "source": [
    "#Write down code to check the head of the dataset\n",
    "\n",
    "df.head()\n",
    "\n",
    "#Write down code to check the info() and describe() methods of the dataset\n",
    "\n",
    "df.info()\n",
    "df.describe()\n",
    "\n"
   ]
  },
  {
   "cell_type": "code",
   "execution_count": null,
   "metadata": {},
   "outputs": [
    {
     "data": {
      "text/plain": [
       "<seaborn.axisgrid.FacetGrid at 0x28ee147c160>"
      ]
     },
     "execution_count": 7,
     "metadata": {},
     "output_type": "execute_result"
    },
    {
     "data": {
      "image/png": "[encoded data removed]",
      "text/plain": [
       "<Figure size 500x500 with 1 Axes>"
      ]
     },
     "metadata": {},
     "output_type": "display_data"
    }
   ],
   "source": [
    "#visualize euro value distribution\n",
    "sns.displot(df['value_eur'])"
   ]
  },
  {
   "cell_type": "code",
   "execution_count": null,
   "metadata": {},
   "outputs": [],
   "source": []
  }
 ],
 "metadata": {
  "kernelspec": {
   "display_name": "Python 3",
   "language": "python",
   "name": "python3"
  },
  "language_info": {
   "codemirror_mode": {
    "name": "ipython",
    "version": 3
   },
   "file_extension": ".py",
   "mimetype": "text/x-python",
   "name": "python",
   "nbconvert_exporter": "python",
   "pygments_lexer": "ipython3",
   "version": "3.9.13"
  },
  "orig_nbformat": 4
 },
 "nbformat": 4,
 "nbformat_minor": 2
}
